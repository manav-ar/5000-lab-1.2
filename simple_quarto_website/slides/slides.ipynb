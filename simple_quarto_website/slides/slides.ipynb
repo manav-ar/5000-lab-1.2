{
 "cells": [
  {
   "cell_type": "markdown",
   "id": "27dbad49-336d-4261-9605-0044a2a1d965",
   "metadata": {},
   "source": [
    "---\n",
    "title: \"Component 6\"\n",
    "author: \"Manav Arora\"\n",
    "format: revealjs\n",
    "bibliography: ../reference.bib\n",
    "---\n",
    "## Ipsum\n",
    "\n",
    "::: {#fig-animals layout-ncol=2}\n",
    "\n",
    "![Penguin](./images/my_image.jpeg){#fig-penguin}\n",
    "\n",
    "![Luna](./images/luna.png){#fig-luna}\n",
    "\n",
    "Animals\n",
    ":::\n",
    "## Amet\n",
    "\n",
    "(this code block does not run locally due to issues in my local R distribution, however when the exact same code is run on posit.cloud it renders the deliverables. Please view component6.html in the _site/slides/ folder to view the correct output. Thanks!)\n",
    "\n",
    "```{r setup, include=FALSE}\n",
    "knitr::opts_chunk$set(echo = TRUE, collapse = TRUE, comment = NA)\n",
    "```\n",
    "\n",
    "```{r sin_wave, fig.cap=\"Sine Wave Plot\"}\n",
    "#| code-fold: true\n",
    "#| code-summary: \"Show the code\"\n",
    "library(ggplot2)\n",
    "\n",
    "# Generate data\n",
    "x <- seq(0, 2*pi, length.out = 100)\n",
    "y <- sin(x)\n",
    "\n",
    "# Create the plot\n",
    "ggplot(data.frame(x, y), aes(x, y)) +\n",
    "  geom_line() +\n",
    "  labs(title = \"Sine Wave\", x = \"x\", y = \"sin(x)\")\n",
    "```\n",
    "\n",
    "## Lorem \n",
    "\n",
    "[@9519033]\n",
    "\n",
    "[@arora2022deep]"
   ]
  }
 ],
 "metadata": {
  "kernelspec": {
   "display_name": "Python 3 (ipykernel)",
   "language": "python",
   "name": "python3"
  },
  "language_info": {
   "codemirror_mode": {
    "name": "ipython",
    "version": 3
   },
   "file_extension": ".py",
   "mimetype": "text/x-python",
   "name": "python",
   "nbconvert_exporter": "python",
   "pygments_lexer": "ipython3",
   "version": "3.12.2"
  }
 },
 "nbformat": 4,
 "nbformat_minor": 5
}
