{
 "cells": [
  {
   "cell_type": "markdown",
   "id": "27dbad49-336d-4261-9605-0044a2a1d965",
   "metadata": {},
   "source": [
    "---\n",
    "title: \"Habits\"\n",
    "author: \"John Doe\"\n",
    "format: revealjs\n",
    "---\n",
    "\n",
    "## Getting up\n",
    "\n",
    "- Turn off alarm\n",
    "- Get out of bed\n",
    "\n",
    "## Going to sleep\n",
    "\n",
    "- Get in bed\n",
    "- Count sheep"
   ]
  },
  {
   "cell_type": "code",
   "execution_count": null,
   "id": "eb420969-ee33-4251-9233-a43a0d4435bd",
   "metadata": {},
   "outputs": [],
   "source": []
  }
 ],
 "metadata": {
  "kernelspec": {
   "display_name": "Python 3 (ipykernel)",
   "language": "python",
   "name": "python3"
  },
  "language_info": {
   "codemirror_mode": {
    "name": "ipython",
    "version": 3
   },
   "file_extension": ".py",
   "mimetype": "text/x-python",
   "name": "python",
   "nbconvert_exporter": "python",
   "pygments_lexer": "ipython3",
   "version": "3.12.2"
  }
 },
 "nbformat": 4,
 "nbformat_minor": 5
}
